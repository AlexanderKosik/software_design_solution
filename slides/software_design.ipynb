{
 "cells": [
  {
   "cell_type": "markdown",
   "id": "7f6c6ae4",
   "metadata": {
    "slideshow": {
     "slide_type": "slide"
    }
   },
   "source": [
    "# Software Design"
   ]
  },
  {
   "cell_type": "markdown",
   "id": "8f05ad58",
   "metadata": {
    "slideshow": {
     "slide_type": "subslide"
    }
   },
   "source": [
    "# Vorstellung\n",
    "\n",
    "- Alexander Kosik (M.Sc.)\n",
    "- Informatiker (Software-Engineer, Systems-Engineer, DevOps-Engineer)\n",
    "- Software-Entwicklung ist die einfachste und zeitgleich die schwierigste Sache der Welt  \n",
    "- Ich versuche, meine Erfahrungen in verschiedenen Formaten zu teilen\n",
    "\n",
    "https://it-kickstart.de"
   ]
  },
  {
   "cell_type": "markdown",
   "id": "699abf45",
   "metadata": {
    "slideshow": {
     "slide_type": "subslide"
    }
   },
   "source": [
    "    [09:00 - 09:15] Getting started\n",
    "    [09:15 - 09:15] Software Design\n",
    "        a. Was ist gutes Design? Eine einfache Antwort auf eine schwierige Frage\n",
    "        b. Project \"Recommerce Platform (RCP)\"\n",
    "    \n",
    "    [11:00 - 11:30] Pause\n",
    "    \n",
    "    [11:30 - 13:00] Abstraction\n",
    "        a. Weniger ist mehr: Das Weglassen von Details\n",
    "    \n",
    "    [13:00 - 14:30] Pause\n",
    "    \n",
    "    [14:30 - 16:00] Abstraction II\n",
    "        a. Der Blick in die Glaskugel: Flexibilität für die Zukunft\n",
    "    \n",
    "    [16:00 - 16:30] Pause\n",
    "    \n",
    "    [16:30 - 18:00] Design Prinzipien\n",
    "        a. Freiheit durch strikte Regeln"
   ]
  },
  {
   "cell_type": "markdown",
   "id": "acbe2f67",
   "metadata": {
    "slideshow": {
     "slide_type": "slide"
    }
   },
   "source": [
    "# Was ist gutes Software-Design?\n",
    "\n",
    "    Eine einfache Antwort auf eine schwierige Frage\n"
   ]
  },
  {
   "cell_type": "markdown",
   "id": "84528618",
   "metadata": {
    "slideshow": {
     "slide_type": "subslide"
    }
   },
   "source": [
    "## Reflexion in 2er Gruppen"
   ]
  },
  {
   "cell_type": "markdown",
   "id": "cdcfce79",
   "metadata": {
    "slideshow": {
     "slide_type": "fragment"
    }
   },
   "source": [
    "    [5 Minuten]\n",
    "    \n",
    "### Was muss erfüllt sein, damit ein Software-Design gut ist?"
   ]
  },
  {
   "cell_type": "markdown",
   "id": "eaaf0d1e",
   "metadata": {
    "slideshow": {
     "slide_type": "fragment"
    }
   },
   "source": [
    "*Z.B.: Bestandteile eines Systems (Funktionen, Module, Variablen, ...) müssen gut benannt sein*"
   ]
  },
  {
   "cell_type": "markdown",
   "id": "1b10cfdc",
   "metadata": {
    "slideshow": {
     "slide_type": "subslide"
    }
   },
   "source": [
    "    [10 Minuten]\n",
    "    \n",
    "### Sammeln und Diskussion der Beiträge"
   ]
  },
  {
   "cell_type": "markdown",
   "id": "d99475ad",
   "metadata": {
    "slideshow": {
     "slide_type": "slide"
    }
   },
   "source": [
    "# Definition nach Dave Thomas und Andrew Hunt\n",
    "\n",
    "    aus Pragmatic Programmer 2nd Edition"
   ]
  },
  {
   "cell_type": "markdown",
   "id": "9e14784a",
   "metadata": {
    "slideshow": {
     "slide_type": "subslide"
    }
   },
   "source": [
    "# Gutes Software-Design ist ETC (Easy To Change)\n",
    "\n",
    "- ETC ist eine Essenz\n",
    "- Entwurfs Prinzipien/Heuristiken/etc. (SRP, DRY, OCP, ...) zahlen direkt auf ETC ein\n",
    "- Folgend im Implemtationsteil:Der Versuch beim Entwurf und bei der Entwicklung explizit auf ETC zu achten"
   ]
  },
  {
   "cell_type": "markdown",
   "id": "b8ce0896",
   "metadata": {
    "slideshow": {
     "slide_type": "slide"
    }
   },
   "source": [
    "# Praxisübung"
   ]
  },
  {
   "cell_type": "markdown",
   "id": "7bf04238",
   "metadata": {
    "slideshow": {
     "slide_type": "subslide"
    }
   },
   "source": [
    "https://alexanderkosik.github.io/software_design/\n",
    "\n",
    "\n",
    "Raw content:\n",
    "https://github.com/AlexanderKosik/software_design"
   ]
  },
  {
   "cell_type": "markdown",
   "id": "208c47fc",
   "metadata": {
    "slideshow": {
     "slide_type": "subslide"
    }
   },
   "source": [
    "[bis __:__ Uhr]\n",
    "\n",
    "# Implementierung\n"
   ]
  },
  {
   "cell_type": "markdown",
   "id": "cafd5332",
   "metadata": {
    "slideshow": {
     "slide_type": "subslide"
    }
   },
   "source": [
    "## ... eine weitere Definition ..."
   ]
  },
  {
   "cell_type": "markdown",
   "id": "4698e693",
   "metadata": {},
   "source": [
    "# Definition nach John Ousterhout¶\n",
    "    aus A Philosophy of Software Design"
   ]
  },
  {
   "cell_type": "markdown",
   "id": "8b19e273",
   "metadata": {
    "slideshow": {
     "slide_type": "slide"
    }
   },
   "source": [
    "# Gutes Software-Design minimiert Komplexität\n",
    "\n",
    "### Definition Komplexität: \"Complexity is anything related to the structure of a software system that makes it hard to understand and modify the system\"\n"
   ]
  },
  {
   "cell_type": "markdown",
   "id": "7539cc8c",
   "metadata": {
    "slideshow": {
     "slide_type": "subslide"
    }
   },
   "source": [
    "\n",
    "${C} = \\sum \\limits _{p} c_{p}{t}_{p} $\n",
    "\n",
    "${C} $ : Gesamtkomplexität \n",
    "\n",
    "${p} $ : Part (Komponente eines Systems)\n",
    "\n",
    "$ c_{p} $ : Komplexität der Komponente\n",
    "\n",
    "$ t_{p} $ : Änderungshäufigkeit der Komponente\n",
    "\n"
   ]
  },
  {
   "cell_type": "markdown",
   "id": "393e6756",
   "metadata": {
    "slideshow": {
     "slide_type": "slide"
    }
   },
   "source": [
    "# Abstraction I \n",
    "\n",
    "        <    =       >\n",
    "      less   is     more"
   ]
  },
  {
   "cell_type": "markdown",
   "id": "bbf0791a",
   "metadata": {
    "slideshow": {
     "slide_type": "subslide"
    }
   },
   "source": [
    "# Information Hiding\n",
    "\n",
    "- Internes wird nicht über eine Schnittstelle \"nach Außen\" bekannt gegeben\n",
    "- Information Hiding > Encapsulation"
   ]
  },
  {
   "cell_type": "code",
   "execution_count": 4,
   "id": "6d3b3fdd",
   "metadata": {
    "slideshow": {
     "slide_type": "subslide"
    }
   },
   "outputs": [],
   "source": [
    "class Example:\n",
    "    def __init__(self):\n",
    "        self._data = {'key_1': 42, 'key_2': 4711}\n",
    "        \n",
    "    def get_data(self):\n",
    "        return self._data  # <<< leakage of information about internal datastructure\n",
    "    \n",
    "    "
   ]
  },
  {
   "cell_type": "code",
   "execution_count": null,
   "id": "898c66b8",
   "metadata": {
    "slideshow": {
     "slide_type": "subslide"
    }
   },
   "outputs": [],
   "source": [
    "class SpecialFileReader:\n",
    "    def __init__(self, filename):\n",
    "        ... # parse file format\n",
    "\n",
    "        \n",
    "class SpecialFileWriter:\n",
    "    def __init__(self, content, filename):\n",
    "        ... # writes content to filename\n",
    "        \n",
    "        \n",
    "# Information über das Fileformat ist auf 2 Stellen verteilt.\n",
    "# Somit \"leaked\" einer der Klassen (sog. \"Backdoor Leakage\")"
   ]
  },
  {
   "cell_type": "markdown",
   "id": "4b9543f3",
   "metadata": {
    "slideshow": {
     "slide_type": "slide"
    }
   },
   "source": [
    "# Abstraction II\n",
    "\n",
    "    Der Blick in die Glaskugel"
   ]
  },
  {
   "cell_type": "markdown",
   "id": "75596cfd",
   "metadata": {
    "slideshow": {
     "slide_type": "slide"
    }
   },
   "source": [
    "# Resources"
   ]
  },
  {
   "cell_type": "markdown",
   "id": "3273c0f9",
   "metadata": {
    "slideshow": {
     "slide_type": "fragment"
    }
   },
   "source": [
    "- The Pragmatic Programmer, David Thomas, Andrew Hunt  \n",
    "- Clean Code, Robert C. Martin\n",
    "- Clean Architecture, Robert C. Martin"
   ]
  },
  {
   "cell_type": "code",
   "execution_count": null,
   "id": "17afa102",
   "metadata": {},
   "outputs": [],
   "source": []
  }
 ],
 "metadata": {
  "celltoolbar": "Slideshow",
  "kernelspec": {
   "display_name": "Python 3 (ipykernel)",
   "language": "python",
   "name": "python3"
  },
  "language_info": {
   "codemirror_mode": {
    "name": "ipython",
    "version": 3
   },
   "file_extension": ".py",
   "mimetype": "text/x-python",
   "name": "python",
   "nbconvert_exporter": "python",
   "pygments_lexer": "ipython3",
   "version": "3.8.8"
  }
 },
 "nbformat": 4,
 "nbformat_minor": 5
}
