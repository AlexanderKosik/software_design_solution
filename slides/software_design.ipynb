{
 "cells": [
  {
   "cell_type": "markdown",
   "id": "7f6c6ae4",
   "metadata": {},
   "source": [
    "# Software Design"
   ]
  },
  {
   "cell_type": "markdown",
   "id": "b84aeb95",
   "metadata": {},
   "source": [
    "    [09:00 - 09:15] Getting started\n",
    "    [09:15 - 09:15] Software Design\n",
    "        a. Was ist gutes Design? Eine einfache Antwort auf eine schwierige Frage\n",
    "        b. Project \"Recommerce Platform (RCP)\"\n",
    "    \n",
    "    [11:00 - 11:30] Pause\n",
    "    \n",
    "    [11:30 - 13:00] Abstraction\n",
    "        a. Weniger ist mehr: Das Weglassen von Details\n",
    "    \n",
    "    [13:00 - 14:30] Pause\n",
    "    \n",
    "    [14:30 - 16:00] Abstraction II\n",
    "        a. Der Blick in die Glaskugel: Flexibilität für die Zukunft\n",
    "    \n",
    "    [16:00 - 16:30] Pause\n",
    "    \n",
    "    [16:30 - 18:00] Design Prinzipien\n",
    "        a. Freiheit durch strikte Regeln"
   ]
  },
  {
   "cell_type": "markdown",
   "id": "acbe2f67",
   "metadata": {},
   "source": [
    "# Was ist gutes Software-Design?\n",
    "\n",
    "## Eine einfache Antwort auf eine schwierige Frag\n"
   ]
  },
  {
   "cell_type": "code",
   "execution_count": null,
   "id": "5e1ef125",
   "metadata": {},
   "outputs": [],
   "source": []
  },
  {
   "cell_type": "code",
   "execution_count": null,
   "id": "c2f54dbf",
   "metadata": {},
   "outputs": [],
   "source": []
  }
 ],
 "metadata": {
  "kernelspec": {
   "display_name": "Python 3 (ipykernel)",
   "language": "python",
   "name": "python3"
  },
  "language_info": {
   "codemirror_mode": {
    "name": "ipython",
    "version": 3
   },
   "file_extension": ".py",
   "mimetype": "text/x-python",
   "name": "python",
   "nbconvert_exporter": "python",
   "pygments_lexer": "ipython3",
   "version": "3.8.8"
  }
 },
 "nbformat": 4,
 "nbformat_minor": 5
}
