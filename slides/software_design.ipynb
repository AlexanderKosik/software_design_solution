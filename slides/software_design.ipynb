{
 "cells": [
  {
   "cell_type": "markdown",
   "id": "7f6c6ae4",
   "metadata": {
    "slideshow": {
     "slide_type": "slide"
    }
   },
   "source": [
    "# Software Design"
   ]
  },
  {
   "cell_type": "markdown",
   "id": "8f05ad58",
   "metadata": {
    "slideshow": {
     "slide_type": "subslide"
    }
   },
   "source": [
    "# Vorstellung\n",
    "\n",
    "- Alexander Kosik (M.Sc.)\n",
    "- Ich entwickle Software für Geld\n",
    "- Ich versuche, meine Erfahrungen in verschiedenen Formaten zu teilen\n",
    "\n",
    "https://it-kickstart.de"
   ]
  },
  {
   "cell_type": "markdown",
   "id": "699abf45",
   "metadata": {
    "slideshow": {
     "slide_type": "subslide"
    }
   },
   "source": [
    "    [09:00 - 09:15] Getting started\n",
    "    [09:15 - 09:15] Software Design\n",
    "        a. Was ist gutes Design? Eine einfache Antwort auf eine schwierige Frage\n",
    "        b. Project \"Recommerce Platform (RCP)\"\n",
    "    \n",
    "    [11:00 - 11:30] Pause\n",
    "    \n",
    "    [11:30 - 13:00] Abstraction\n",
    "        a. Weniger ist mehr: Das Weglassen von Details\n",
    "    \n",
    "    [13:00 - 14:30] Pause\n",
    "    \n",
    "    [14:30 - 16:00] Abstraction II\n",
    "        a. Der Blick in die Glaskugel: Flexibilität für die Zukunft\n",
    "    \n",
    "    [16:00 - 16:30] Pause\n",
    "    \n",
    "    [16:30 - 18:00] Design Prinzipien\n",
    "        a. Freiheit durch strikte Regeln"
   ]
  },
  {
   "cell_type": "markdown",
   "id": "acbe2f67",
   "metadata": {
    "slideshow": {
     "slide_type": "slide"
    }
   },
   "source": [
    "# Was ist gutes Software-Design?\n",
    "\n",
    "    Eine einfache Antwort auf eine schwierige Frage\n"
   ]
  },
  {
   "cell_type": "markdown",
   "id": "84528618",
   "metadata": {
    "slideshow": {
     "slide_type": "subslide"
    }
   },
   "source": [
    "## Reflexion in 2er Gruppen"
   ]
  },
  {
   "cell_type": "markdown",
   "id": "cdcfce79",
   "metadata": {
    "slideshow": {
     "slide_type": "fragment"
    }
   },
   "source": [
    "    [5 Minuten]\n",
    "    \n",
    "### Was muss erfüllt sein, damit ein Software-Design gut ist?"
   ]
  },
  {
   "cell_type": "markdown",
   "id": "eaaf0d1e",
   "metadata": {
    "slideshow": {
     "slide_type": "fragment"
    }
   },
   "source": [
    "*Z.B.: Bestandteile eines Systems (Funktionen, Module, Variablen, ...) müssen gut benannt sein*"
   ]
  },
  {
   "cell_type": "markdown",
   "id": "1b10cfdc",
   "metadata": {
    "slideshow": {
     "slide_type": "subslide"
    }
   },
   "source": [
    "    [10 Minuten]\n",
    "    \n",
    "### Sammeln und Diskussion der Beiträge"
   ]
  },
  {
   "cell_type": "markdown",
   "id": "b7a2ff09",
   "metadata": {
    "slideshow": {
     "slide_type": "slide"
    }
   },
   "source": [
    "# Definition nach Dave Thomas und Andrew Hunt\n",
    "\n",
    "    aus Pragmatic Programmer 2nd Edition"
   ]
  },
  {
   "cell_type": "markdown",
   "id": "9e14784a",
   "metadata": {
    "slideshow": {
     "slide_type": "subslide"
    }
   },
   "source": [
    "# Gutes Software-Design ist ETC (Easy To Change)\n",
    "\n",
    "- ETC ist eine Essenz\n",
    "- Entwurfs Prinzipien/Heuristiken/etc. (SRP, DRY, OCP, ...) zahlen direkt auf ETC ein\n",
    "- Folgend im ImplemtationsteiVersuch: Reflexion beim Entwurf/bei der Entwicklung explizit auf ETC zu achten"
   ]
  },
  {
   "cell_type": "markdown",
   "id": "6db0f23d",
   "metadata": {
    "slideshow": {
     "slide_type": "slide"
    }
   },
   "source": [
    "# Praxisübung"
   ]
  },
  {
   "cell_type": "markdown",
   "id": "12796040",
   "metadata": {
    "slideshow": {
     "slide_type": "subslide"
    }
   },
   "source": [
    "https://alexanderkosik.github.io/software_design/\n",
    "\n",
    "\n",
    "Raw content:\n",
    "https://github.com/AlexanderKosik/software_design"
   ]
  },
  {
   "cell_type": "markdown",
   "id": "b4df5465",
   "metadata": {
    "slideshow": {
     "slide_type": "subslide"
    }
   },
   "source": [
    "[bis __:__ Uhr]\n",
    "\n",
    "# Implementierung\n"
   ]
  },
  {
   "cell_type": "markdown",
   "id": "ee0e58d6",
   "metadata": {
    "slideshow": {
     "slide_type": "subslide"
    }
   },
   "source": [
    "## ... eine weitere Definition ..."
   ]
  },
  {
   "cell_type": "markdown",
   "id": "998ed5cb",
   "metadata": {
    "slideshow": {
     "slide_type": "slide"
    }
   },
   "source": [
    "# Gutes Software-Design minimiert Komplexität\n",
    "\n",
    "### Definition Komplexität: \"Complexity is anything related to the structure of a software system that makes it hard to understand and modify the system\"\n",
    "\n",
    "- John Ousterhout - A Philosophy of Software Design"
   ]
  },
  {
   "cell_type": "markdown",
   "id": "d7a25900",
   "metadata": {
    "slideshow": {
     "slide_type": "subslide"
    }
   },
   "source": [
    "\n",
    "${C} = \\sum \\limits _{p} c_{p}{t}_{p} $\n",
    "\n",
    "${C} $ : Gesamtkomplexität \n",
    "\n",
    "${p} $ : Part (Komponente eines Systems)\n",
    "\n",
    "$ c_{p} $ : Komplexität der Komponente\n",
    "\n",
    "$ t_{p} $ : Änderungshäufigkeit der Komponente\n",
    "\n"
   ]
  },
  {
   "cell_type": "code",
   "execution_count": null,
   "id": "afdda325",
   "metadata": {},
   "outputs": [],
   "source": []
  },
  {
   "cell_type": "code",
   "execution_count": null,
   "id": "4866bfb3",
   "metadata": {},
   "outputs": [],
   "source": []
  },
  {
   "cell_type": "markdown",
   "id": "75596cfd",
   "metadata": {
    "slideshow": {
     "slide_type": "slide"
    }
   },
   "source": [
    "# Resources"
   ]
  },
  {
   "cell_type": "markdown",
   "id": "3273c0f9",
   "metadata": {
    "slideshow": {
     "slide_type": "fragment"
    }
   },
   "source": [
    "- The Pragmatic Programmer, David Thomas, Andrew Hunt  \n",
    "- Clean Code, Robert C. Martin\n",
    "- Clean Architecture, Robert C. Martin"
   ]
  },
  {
   "cell_type": "code",
   "execution_count": null,
   "id": "17afa102",
   "metadata": {},
   "outputs": [],
   "source": []
  }
 ],
 "metadata": {
  "celltoolbar": "Slideshow",
  "kernelspec": {
   "display_name": "Python 3 (ipykernel)",
   "language": "python",
   "name": "python3"
  },
  "language_info": {
   "codemirror_mode": {
    "name": "ipython",
    "version": 3
   },
   "file_extension": ".py",
   "mimetype": "text/x-python",
   "name": "python",
   "nbconvert_exporter": "python",
   "pygments_lexer": "ipython3",
   "version": "3.8.8"
  }
 },
 "nbformat": 4,
 "nbformat_minor": 5
}
